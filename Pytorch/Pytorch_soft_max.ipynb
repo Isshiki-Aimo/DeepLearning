{
 "cells": [
  {
   "cell_type": "code",
   "execution_count": 38,
   "metadata": {},
   "outputs": [],
   "source": [
    "%matplotlib inline\n",
    "import torch\n",
    "import torch.nn as nn\n",
    "import torch.utils.data as Data\n",
    "import numpy as np\n",
    "import torchmetrics\n",
    "import torchvision.transforms as transforms\n",
    "from torch.autograd import Variable\n",
    "import torchvision      # 数据库模块\n",
    "import matplotlib.pyplot as plt\n",
    "from IPython import display\n",
    "from d2l import torch as d2l\n",
    "from sklearn.metrics import confusion_matrix\n",
    "import seaborn as sns"
   ]
  },
  {
   "cell_type": "code",
   "execution_count": 39,
   "metadata": {},
   "outputs": [],
   "source": [
    "train_dataset = torchvision.datasets.MNIST(root='./mnist',\n",
    "                           train=True,\n",
    "                           transform=transforms.ToTensor(),\n",
    "                           download=False)\n",
    "\n",
    "test_dataset = torchvision.datasets.MNIST(root='./mnist',\n",
    "                           train=False,\n",
    "                           transform=transforms.ToTensor(),\n",
    "                           download=False)"
   ]
  },
  {
   "cell_type": "code",
   "execution_count": 40,
   "metadata": {},
   "outputs": [],
   "source": [
    "batch_size = 256\n",
    "train_loader = torch.utils.data.DataLoader(dataset=train_dataset,\n",
    "                                          batch_size=batch_size,\n",
    "                                          shuffle=True)\n",
    "\n",
    "test_loader = torch.utils.data.DataLoader(dataset=test_dataset,\n",
    "                                          batch_size=batch_size,\n",
    "                                          shuffle=False)"
   ]
  },
  {
   "cell_type": "code",
   "execution_count": 41,
   "metadata": {},
   "outputs": [],
   "source": [
    "net = nn.Sequential(nn.Flatten(),nn.Linear(784,10))"
   ]
  },
  {
   "cell_type": "code",
   "execution_count": 42,
   "metadata": {},
   "outputs": [
    {
     "name": "stdout",
     "output_type": "stream",
     "text": [
      "Epoch [1/10], Step [234/234], Loss: 0.5214\n",
      "Epoch [2/10], Step [234/234], Loss: 0.4079\n",
      "Epoch [3/10], Step [234/234], Loss: 0.3459\n",
      "Epoch [4/10], Step [234/234], Loss: 0.2501\n",
      "Epoch [5/10], Step [234/234], Loss: 0.3378\n",
      "Epoch [6/10], Step [234/234], Loss: 0.3115\n",
      "Epoch [7/10], Step [234/234], Loss: 0.3153\n",
      "Epoch [8/10], Step [234/234], Loss: 0.2694\n",
      "Epoch [9/10], Step [234/234], Loss: 0.3458\n",
      "Epoch [10/10], Step [234/234], Loss: 0.3352\n"
     ]
    }
   ],
   "source": [
    "num_epochs = 10\n",
    "criterion = nn.CrossEntropyLoss()\n",
    "optimizer = torch.optim.Adam(net.parameters(), lr=0.001)\n",
    "for epoch in range(num_epochs):\n",
    "    for i, (images, labels) in enumerate(train_loader):   \n",
    "        images = Variable(images.view(-1, 28*28))         \n",
    "        labels = Variable(labels)\n",
    "\n",
    "        optimizer.zero_grad()                             \n",
    "        outputs = net(images)                             \n",
    "        loss = criterion(outputs, labels)                 \n",
    "        loss.backward()                                   \n",
    "        optimizer.step()                                 \n",
    "\n",
    "        if (i+1) % 234 == 0:                              \n",
    "            print('Epoch [%d/%d], Step [%d/%d], Loss: %.4f'\n",
    "                 %(epoch+1, num_epochs, i+1, len(train_dataset)//batch_size, loss.item()))\n"
   ]
  },
  {
   "cell_type": "code",
   "execution_count": 43,
   "metadata": {},
   "outputs": [
    {
     "name": "stdout",
     "output_type": "stream",
     "text": [
      "Accuracy of the network on the 10K test images: 92 %\n"
     ]
    }
   ],
   "source": [
    "correct = 0\n",
    "total = 0\n",
    "for images, labels in test_loader:\n",
    "    images = Variable(images.view(-1, 28*28))\n",
    "    outputs = net(images)\n",
    "    _, predicted = torch.max(outputs.data, 1)  # Choose the best class from the output: The class with the best score\n",
    "    total += labels.size(0)                    # Increment the total count\n",
    "    correct += (predicted == labels).sum()     # Increment the correct count\n",
    "\n",
    "print('Accuracy of the network on the 10K test images: %d %%' % (100 * correct / total))\n",
    "#计算准确率\n",
    "def net_accurary(data_iter,net):\n",
    "    right_sum,n = 0.0,0\n",
    "    for X,y in data_iter:\n",
    "    #从迭代器data_iter中获取X和y\n",
    "        right_sum += (net(X).argmax(dim=1)==y).float().sum().item()\n",
    "        #计算准确判断的数量\n",
    "        n +=y.shape[0]\n",
    "        #通过shape[0]获取y的零维度（列）的元素数量\n",
    "    return right_sum/n"
   ]
  },
  {
   "cell_type": "code",
   "execution_count": 44,
   "metadata": {},
   "outputs": [],
   "source": [
    "torch.save(net, 'soft_max.pkl')"
   ]
  },
  {
   "cell_type": "code",
   "execution_count": 45,
   "metadata": {},
   "outputs": [
    {
     "name": "stderr",
     "output_type": "stream",
     "text": [
      "E:\\ProgramData\\Miniconda3\\envs\\d2l\\lib\\site-packages\\torchmetrics\\utilities\\prints.py:36: UserWarning: Metric `AUROC` will save all targets and predictions in buffer. For large datasets this may lead to large memory footprint.\n",
      "  warnings.warn(*args, **kwargs)\n"
     ]
    },
    {
     "name": "stdout",
     "output_type": "stream",
     "text": [
      "Test Error: \n",
      " Accuracy: 92.4%, Avg loss: 0.268028, torch metrics acc: 92.4%\n",
      "\n",
      "recall of every test dataset class:  tensor([0.9796, 0.9833, 0.8944, 0.9198, 0.9236, 0.8531, 0.9489, 0.9144, 0.8943,\n",
      "        0.9177])\n",
      "precision of every test dataset class:  tensor([0.9505, 0.9662, 0.9304, 0.9002, 0.9331, 0.9213, 0.9410, 0.9344, 0.8701,\n",
      "        0.8904])\n",
      "auc: 0.9808036684989929\n"
     ]
    }
   ],
   "source": [
    "def test_loop(dataloader, model, loss_fn):\n",
    "    # 实例化相关metrics的计算对象\n",
    "    test_acc = torchmetrics.Accuracy()\n",
    "    test_recall = torchmetrics.Recall(average='none', num_classes=10)\n",
    "    test_precision = torchmetrics.Precision(average='none', num_classes=10)\n",
    "    test_auc = torchmetrics.AUROC(average=\"macro\", num_classes=10)\n",
    "\n",
    "    size = len(dataloader.dataset)\n",
    "    num_batches = len(dataloader)\n",
    "    test_loss, correct = 0, 0\n",
    "\n",
    "    with torch.no_grad():\n",
    "        for X, y in dataloader:\n",
    "            X=Variable(X.view(-1, 28 * 28))\n",
    "            pred = model(X)\n",
    "            test_loss += loss_fn(pred, y).item()\n",
    "            correct += (pred.argmax(1) == y).type(torch.float).sum().item()\n",
    "            # 一个batch进行计算迭代\n",
    "            test_acc(pred.argmax(1), y)\n",
    "            test_auc.update(pred, y)\n",
    "            test_recall(pred.argmax(1), y)\n",
    "            test_precision(pred.argmax(1), y)\n",
    "\n",
    "    test_loss /= num_batches\n",
    "    correct /= size\n",
    "\n",
    "    # 计算一个epoch的accuray、recall、precision、AUC\n",
    "    total_acc = test_acc.compute()\n",
    "    total_recall = test_recall.compute()\n",
    "    total_precision = test_precision.compute()\n",
    "    total_auc = test_auc.compute()\n",
    "    print(f\"Test Error: \\n Accuracy: {(100 * correct):>0.1f}%, \"\n",
    "          f\"Avg loss: {test_loss:>8f}, \"\n",
    "          f\"torch metrics acc: {(100 * total_acc):>0.1f}%\\n\")\n",
    "    print(\"recall of every test dataset class: \", total_recall)\n",
    "    print(\"precision of every test dataset class: \", total_precision)\n",
    "    print(\"auc:\", total_auc.item())\n",
    "\n",
    "    # 清空计算对象\n",
    "    test_precision.reset()\n",
    "    test_acc.reset()\n",
    "    test_recall.reset()\n",
    "    test_auc.reset()\n",
    "\n",
    "net1=torch.load(\"soft_max.pkl\")\n",
    "loss=nn.CrossEntropyLoss()\n",
    "test_loop(test_loader,net1,loss)"
   ]
  },
  {
   "cell_type": "code",
   "execution_count": 46,
   "metadata": {},
   "outputs": [],
   "source": [
    "pre_loader = torch.utils.data.DataLoader(dataset=test_dataset,\n",
    "                                          batch_size=1,\n",
    "                                          shuffle=False)\n",
    "test_data = iter(pre_loader)\n",
    "category_dict = {0: '0', 1: '1', 2: '2', 3: '3', 4: '4', 5: '5', 6: '6', 7: '7', 8: '8', 9: '9'}\n",
    "test_label = []\n",
    "test_pred = []\n",
    "for data in test_data:\n",
    "    images, labels = data\n",
    "    images = Variable(images.view(-1, 28 * 28))\n",
    "    outputs = net1(images)\n",
    "    _, predicted = torch.max(outputs.data, 1)\n",
    "    test_label.append(category_dict[labels.item()])\n",
    "    test_pred.append(category_dict[predicted.item()])\n"
   ]
  },
  {
   "cell_type": "code",
   "execution_count": 47,
   "metadata": {},
   "outputs": [
    {
     "data": {
      "text/plain": [
       "array([[ 960,    0,    2,    1,    0,    5,    6,    3,    3,    0],\n",
       "       [   0, 1116,    2,    2,    0,    2,    4,    2,    7,    0],\n",
       "       [   7,   10,  923,   17,    8,    2,   11,    9,   40,    5],\n",
       "       [   3,    0,   18,  929,    0,   18,    1,   11,   21,    9],\n",
       "       [   1,    1,    4,    1,  907,    0,   12,    2,   10,   44],\n",
       "       [   8,    2,    4,   41,   10,  761,   14,    7,   37,    8],\n",
       "       [  12,    3,    8,    1,    8,   12,  909,    2,    3,    0],\n",
       "       [   1,    8,   23,    7,    6,    0,    0,  940,    3,   40],\n",
       "       [   7,    9,    6,   23,    9,   21,    9,   11,  871,    8],\n",
       "       [  11,    6,    2,   10,   24,    5,    0,   19,    6,  926]],\n",
       "      dtype=int64)"
      ]
     },
     "execution_count": 47,
     "metadata": {},
     "output_type": "execute_result"
    }
   ],
   "source": [
    "cm = confusion_matrix(test_label, test_pred)\n",
    "cm"
   ]
  },
  {
   "cell_type": "code",
   "execution_count": 52,
   "metadata": {},
   "outputs": [
    {
     "data": {
      "text/plain": [
       "<AxesSubplot:>"
      ]
     },
     "execution_count": 52,
     "metadata": {},
     "output_type": "execute_result"
    },
    {
     "data": {
      "image/png": "[encoded data removed]",
      "text/plain": [
       "<Figure size 432x288 with 2 Axes>"
      ]
     },
     "metadata": {
      "needs_background": "light"
     },
     "output_type": "display_data"
    }
   ],
   "source": [
    "sns.heatmap(cm,cmap=\"YlGnBu_r\",annot=True,fmt=\"d\")"
   ]
  },
  {
   "cell_type": "code",
   "execution_count": null,
   "metadata": {},
   "outputs": [],
   "source": []
  }
 ],
 "metadata": {
  "interpreter": {
   "hash": "938c81059f38093f03e41c1c03613eea929c644641a92c01b35e4f897b7108a4"
  },
  "kernelspec": {
   "display_name": "Python 3.8.12 ('d2l')",
   "language": "python",
   "name": "python3"
  },
  "language_info": {
   "codemirror_mode": {
    "name": "ipython",
    "version": 3
   },
   "file_extension": ".py",
   "mimetype": "text/x-python",
   "name": "python",
   "nbconvert_exporter": "python",
   "pygments_lexer": "ipython3",
   "version": "3.8.12"
  },
  "orig_nbformat": 4
 },
 "nbformat": 4,
 "nbformat_minor": 2
}
