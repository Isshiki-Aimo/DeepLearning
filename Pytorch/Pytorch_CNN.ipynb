{
 "cells": [
  {
   "cell_type": "code",
   "execution_count": 32,
   "metadata": {},
   "outputs": [],
   "source": [
    "import torch\n",
    "import torch.nn as nn\n",
    "import torch.utils.data as Data\n",
    "import numpy as np\n",
    "import torchmetrics\n",
    "import torchvision.transforms as transforms\n",
    "from torch.autograd import Variable\n",
    "import torchvision      # 数据库模块\n",
    "import matplotlib.pyplot as plt\n",
    "from sklearn.metrics import confusion_matrix\n",
    "import seaborn as sns"
   ]
  },
  {
   "cell_type": "code",
   "execution_count": 33,
   "metadata": {},
   "outputs": [],
   "source": [
    "train_dataset = torchvision.datasets.MNIST(root='./mnist',\n",
    "                           train=True,\n",
    "                           transform=transforms.ToTensor(),\n",
    "                           download=False)\n",
    "\n",
    "test_dataset = torchvision.datasets.MNIST(root='./mnist',\n",
    "                           train=False,\n",
    "                           transform=transforms.ToTensor())\n",
    "\n",
    "     \n",
    "batch_size = 256       \n",
    "train_loader = torch.utils.data.DataLoader(dataset=train_dataset,\n",
    "                                          batch_size=batch_size,\n",
    "                                          shuffle=True)\n",
    "\n",
    "test_loader = torch.utils.data.DataLoader(dataset=test_dataset,\n",
    "                                          batch_size=batch_size,\n",
    "                                          shuffle=False)"
   ]
  },
  {
   "cell_type": "code",
   "execution_count": 34,
   "metadata": {},
   "outputs": [],
   "source": [
    "class ResidualBlock(nn.Module):\n",
    "    def __init__(self,in_channel,out_channel,stride = 1):\n",
    "        super(ResidualBlock,self).__init__()\n",
    "        channel = out_channel\n",
    "        self.conv1 = nn.Conv2d(in_channel, channel,kernel_size=3, stride=1,padding=1)\n",
    "        self.bn1 = nn.BatchNorm2d(channel)\n",
    "        self.conv2 = nn.Conv2d(channel, channel,kernel_size=3, stride=stride,padding=1)\n",
    "        self.bn2 = nn.BatchNorm2d(channel)\n",
    "        self.conv3 = nn.Conv2d(channel, out_channel,kernel_size=1, stride=1,padding=0)\n",
    "        self.bn3 = nn.BatchNorm2d(out_channel)\n",
    "        self.relu = nn.ReLU()\n",
    "        self.down_sample = False\n",
    "        if stride != 1 or in_channel != out_channel:\n",
    "            self.down_sample = True\n",
    "        self.down_sample_layer = None\n",
    "        if self.down_sample:\n",
    "            self.down_sample_layer = nn.SequentialCell([nn.Conv2d(channel, out_channel,kernel_size=1, stride=1),\n",
    "                                                        nn.BatchNorm2d(out_channel)])\n",
    "    def forward(self, x):\n",
    "        identity = x\n",
    "        out = self.conv1(x)\n",
    "        out = self.bn1(out)\n",
    "        out = self.relu(out)\n",
    "        out = self.conv2(out)\n",
    "        out = self.bn2(out)\n",
    "        out = self.relu(out)\n",
    "        out = self.conv3(out)\n",
    "        out = self.bn3(out)\n",
    "        if self.down_sample:\n",
    "            identity = self.down_sample_layer(identity)\n",
    "        out += identity\n",
    "        out = self.relu(out)\n",
    "        return out\n"
   ]
  },
  {
   "cell_type": "code",
   "execution_count": 35,
   "metadata": {},
   "outputs": [],
   "source": [
    "class CNN(nn.Module):\n",
    "    def __init__(self):\n",
    "        super(CNN, self).__init__()\n",
    "        self.conv1 = nn.Sequential(\n",
    "            nn.Conv2d(1,32,kernel_size=3,stride=1,padding=1),\n",
    "            ResidualBlock(32,32,stride=1),\n",
    "            nn.ReLU(),\n",
    "            nn.MaxPool2d(kernel_size=2,stride=2)\n",
    "        )\n",
    "        self.conv2 = nn.Sequential(\n",
    "            nn.Conv2d(32,64,kernel_size=3,stride=1,padding=1),\n",
    "            ResidualBlock(64,64,stride=1),\n",
    "            nn.ReLU(),\n",
    "            nn.MaxPool2d(kernel_size=2,stride=2)\n",
    "        )\n",
    "        self.flatten = nn.Flatten()\n",
    "        self.relu = nn.ReLU() \n",
    "        self.fc1 = nn.Linear(64*7*7, 1024)\n",
    "        self.fc2 = nn.Linear(1024, 10)\n",
    "        self.dropout = nn.Dropout(0.5)\n",
    "\n",
    "    def forward(self, x):\n",
    "        x = self.conv1(x)\n",
    "        x = self.conv2(x)\n",
    "        x = self.flatten(x)\n",
    "        x = self.relu(self.fc1(x))\n",
    "        x = self.dropout(x)\n",
    "        x = self.fc2(x)\n",
    "        return x"
   ]
  },
  {
   "cell_type": "code",
   "execution_count": 36,
   "metadata": {},
   "outputs": [],
   "source": [
    "cnn = CNN()\n",
    "print(cnn)\n",
    "# input = torch.ones([1,1,28,28])\n",
    "# output = cnn(input)\n",
    "# print(output.size())"
   ]
  },
  {
   "cell_type": "code",
   "execution_count": 37,
   "metadata": {},
   "outputs": [],
   "source": [
    "def train(epoch,model,train_loader,optimizer,device):\n",
    "    criterion = nn.CrossEntropyLoss()\n",
    "    model.to(device)\n",
    "    for e in range(epoch):\n",
    "        for i,(imgs,labels) in enumerate(train_loader):\n",
    "            imgs = imgs.to(device)\n",
    "            labels = labels.to(device)\n",
    "            optimizer.zero_grad()\n",
    "            outputs = model(imgs)\n",
    "            loss = criterion(outputs,labels)\n",
    "            loss.backward()\n",
    "            optimizer.step()\n",
    "            if (i+1) % 100 == 0:                             \n",
    "                print('Epoch [%d/%d], Step [%d/%d], Loss: %.4f'\n",
    "                 %(e+1, epoch, i+1, len(train_dataset)//batch_size, loss.item()))"
   ]
  },
  {
   "cell_type": "code",
   "execution_count": 38,
   "metadata": {},
   "outputs": [
    {
     "name": "stdout",
     "output_type": "stream",
     "text": [
      "Epoch [1/10], Step [100/234], Loss: 0.0684\n",
      "Epoch [1/10], Step [200/234], Loss: 0.0820\n",
      "Epoch [2/10], Step [100/234], Loss: 0.0474\n",
      "Epoch [2/10], Step [200/234], Loss: 0.0798\n",
      "Epoch [3/10], Step [100/234], Loss: 0.0207\n",
      "Epoch [3/10], Step [200/234], Loss: 0.0418\n",
      "Epoch [4/10], Step [100/234], Loss: 0.0390\n",
      "Epoch [4/10], Step [200/234], Loss: 0.0232\n",
      "Epoch [5/10], Step [100/234], Loss: 0.0155\n",
      "Epoch [5/10], Step [200/234], Loss: 0.0064\n",
      "Epoch [6/10], Step [100/234], Loss: 0.0049\n",
      "Epoch [6/10], Step [200/234], Loss: 0.0043\n",
      "Epoch [7/10], Step [100/234], Loss: 0.0223\n",
      "Epoch [7/10], Step [200/234], Loss: 0.0315\n",
      "Epoch [8/10], Step [100/234], Loss: 0.0230\n",
      "Epoch [8/10], Step [200/234], Loss: 0.0192\n",
      "Epoch [9/10], Step [100/234], Loss: 0.0106\n",
      "Epoch [9/10], Step [200/234], Loss: 0.0032\n",
      "Epoch [10/10], Step [100/234], Loss: 0.0074\n",
      "Epoch [10/10], Step [200/234], Loss: 0.0058\n"
     ]
    }
   ],
   "source": [
    "train(10,cnn,train_loader,torch.optim.Adam(cnn.parameters(),lr=0.001),'cuda')"
   ]
  },
  {
   "cell_type": "code",
   "execution_count": 39,
   "metadata": {},
   "outputs": [],
   "source": [
    "torch.save(cnn, 'CNN.pkl')"
   ]
  },
  {
   "cell_type": "code",
   "execution_count": 40,
   "metadata": {},
   "outputs": [],
   "source": [
    "cnn_test=torch.load(\"CNN.pkl\")"
   ]
  },
  {
   "cell_type": "code",
   "execution_count": 41,
   "metadata": {},
   "outputs": [],
   "source": [
    "def test(pre_loader,model,n_classes,device):\n",
    "    model.eval()\n",
    "    labels_num = torch.zeros((1, n_classes))\n",
    "    predict_num = torch.zeros((1, n_classes))\n",
    "    acc_num = torch.zeros((1, n_classes))\n",
    "    model.to(device)\n",
    "    with torch.no_grad():\n",
    "        for i,(input,labels) in enumerate(pre_loader):\n",
    "            input = input.to(device)\n",
    "            labels = labels.to(device)\n",
    "            outputs = model(input)\n",
    "            _, pre = torch.max(outputs.data, 1)\n",
    "            # get one hot encoding\n",
    "            # get the predict number\n",
    "            pre_mask = torch.zeros(outputs.size()).scatter_(1, pre.cpu().view(-1, 1), 1.)\n",
    "            predict_num += pre_mask.sum(0)\n",
    "            # get the label number\n",
    "            lab_mask = torch.zeros(outputs.size()).scatter_(1, labels.data.cpu().view(-1, 1), 1.)\n",
    "            labels_num += lab_mask.sum(0)\n",
    "            acc_mask = pre_mask * lab_mask\n",
    "            acc_num += acc_mask.sum(0)\n",
    "            # get cm matrix\n",
    "            if i==0:\n",
    "                pre_list = pre.cpu().numpy()\n",
    "                label_list = labels.cpu().numpy()\n",
    "            else:\n",
    "                pre_list = np.concatenate((pre_list,pre.cpu().numpy()),axis=0)\n",
    "                label_list = np.concatenate((label_list,labels.cpu().numpy()),axis=0)\n",
    "    recall = acc_num / labels_num\n",
    "    precision = acc_num / predict_num\n",
    "    F1 = 2 * recall * precision / (recall + precision)\n",
    "    accuracy = 100. * acc_num.sum(1) / labels_num.sum(1)\n",
    "    print('Test Acc {}\\n, recal {}\\n, precision {}\\n, F1-score {}\\n'.format(accuracy, recall, precision, F1))\n",
    "    cm = confusion_matrix(label_list,pre_list)\n",
    "    return cm , pre_list, label_list\n"
   ]
  },
  {
   "cell_type": "code",
   "execution_count": 42,
   "metadata": {},
   "outputs": [
    {
     "name": "stdout",
     "output_type": "stream",
     "text": [
      "Test Acc tensor([99.4300])\n",
      ", recal tensor([[0.9918, 0.9956, 0.9990, 0.9921, 0.9980, 0.9955, 0.9969, 0.9874, 0.9979,\n",
      "         0.9891]])\n",
      ", precision tensor([[0.9979, 0.9991, 0.9875, 0.9950, 0.9959, 0.9944, 0.9896, 0.9971, 0.9888,\n",
      "         0.9970]])\n",
      ", F1-score tensor([[0.9949, 0.9974, 0.9933, 0.9936, 0.9969, 0.9950, 0.9932, 0.9922, 0.9934,\n",
      "         0.9930]])\n",
      "\n",
      "[[ 972    0    0    0    0    0    6    1    1    0]\n",
      " [   0 1130    1    1    0    0    2    1    0    0]\n",
      " [   0    0 1031    0    0    0    1    0    0    0]\n",
      " [   0    0    2 1002    0    5    0    0    1    0]\n",
      " [   0    0    0    0  980    0    0    0    1    1]\n",
      " [   0    0    0    3    0  888    1    0    0    0]\n",
      " [   2    0    0    0    0    0  955    0    1    0]\n",
      " [   0    1   10    0    0    0    0 1015    1    1]\n",
      " [   0    0    0    1    0    0    0    0  972    1]\n",
      " [   0    0    0    0    4    0    0    1    6  998]]\n"
     ]
    }
   ],
   "source": [
    "cm, pre_list, label_list = test(test_loader,cnn,10,'cuda')\n",
    "print(cm)"
   ]
  },
  {
   "cell_type": "code",
   "execution_count": 43,
   "metadata": {},
   "outputs": [
    {
     "data": {
      "text/plain": [
       "<AxesSubplot:>"
      ]
     },
     "execution_count": 43,
     "metadata": {},
     "output_type": "execute_result"
    },
    {
     "data": {
      "image/png": "[encoded data removed]",
      "text/plain": [
       "<Figure size 432x288 with 2 Axes>"
      ]
     },
     "metadata": {
      "needs_background": "light"
     },
     "output_type": "display_data"
    }
   ],
   "source": [
    "sns.heatmap(cm,cmap=\"YlGnBu_r\",annot=True,fmt=\"d\")"
   ]
  }
 ],
 "metadata": {
  "interpreter": {
   "hash": "938c81059f38093f03e41c1c03613eea929c644641a92c01b35e4f897b7108a4"
  },
  "kernelspec": {
   "display_name": "Python 3.8.12 ('d2l')",
   "language": "python",
   "name": "python3"
  },
  "language_info": {
   "codemirror_mode": {
    "name": "ipython",
    "version": 3
   },
   "file_extension": ".py",
   "mimetype": "text/x-python",
   "name": "python",
   "nbconvert_exporter": "python",
   "pygments_lexer": "ipython3",
   "version": "3.8.12"
  },
  "orig_nbformat": 4
 },
 "nbformat": 4,
 "nbformat_minor": 2
}
