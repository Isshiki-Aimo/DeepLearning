{
 "cells": [
  {
   "cell_type": "code",
   "execution_count": 9,
   "metadata": {},
   "outputs": [],
   "source": [
    "import torch\n",
    "import torch.nn as nn\n",
    "import torch.utils.data as Data\n",
    "import numpy as np\n",
    "import torchmetrics\n",
    "import torchvision.transforms as transforms\n",
    "from torch.autograd import Variable\n",
    "import torchvision      # 数据库模块\n",
    "import matplotlib.pyplot as plt\n",
    "from sklearn.metrics import confusion_matrix\n",
    "import seaborn as sns"
   ]
  },
  {
   "cell_type": "code",
   "execution_count": 10,
   "metadata": {},
   "outputs": [],
   "source": [
    "train_dataset = torchvision.datasets.MNIST(root='./mnist',\n",
    "                           train=True,\n",
    "                           transform=transforms.ToTensor(),\n",
    "                           download=False)\n",
    "\n",
    "test_dataset = torchvision.datasets.MNIST(root='./mnist',\n",
    "                           train=False,\n",
    "                           transform=transforms.ToTensor())\n",
    "\n",
    "     \n",
    "batch_size = 32       \n",
    "train_loader = torch.utils.data.DataLoader(dataset=train_dataset,\n",
    "                                          batch_size=batch_size,\n",
    "                                          shuffle=True)\n",
    "\n",
    "test_loader = torch.utils.data.DataLoader(dataset=test_dataset,\n",
    "                                          batch_size=batch_size,\n",
    "                                          shuffle=False)"
   ]
  },
  {
   "cell_type": "code",
   "execution_count": 11,
   "metadata": {},
   "outputs": [],
   "source": [
    "#前馈神经网络模型\n",
    "class Net(nn.Module):\n",
    "    def __init__(self):\n",
    "        super(Net, self).__init__()                   \n",
    "        self.fc1 = nn.Linear(784, 256)\n",
    "        self.relu = nn.ReLU()           \n",
    "        self.fc2 = nn.Linear(256, 10) \n",
    "\n",
    "    def forward(self, x): \n",
    "        out = self.fc1(x)\n",
    "        out = self.relu(out)\n",
    "        out = self.fc2(out)\n",
    "        return out"
   ]
  },
  {
   "cell_type": "code",
   "execution_count": 12,
   "metadata": {},
   "outputs": [
    {
     "name": "stdout",
     "output_type": "stream",
     "text": [
      "Epoch [1/10], Step [1875/1875], Loss: 0.1244\n",
      "Epoch [2/10], Step [1875/1875], Loss: 0.0199\n",
      "Epoch [3/10], Step [1875/1875], Loss: 0.1497\n",
      "Epoch [4/10], Step [1875/1875], Loss: 0.2069\n",
      "Epoch [5/10], Step [1875/1875], Loss: 0.0026\n",
      "Epoch [6/10], Step [1875/1875], Loss: 0.0054\n",
      "Epoch [7/10], Step [1875/1875], Loss: 0.0251\n",
      "Epoch [8/10], Step [1875/1875], Loss: 0.0030\n",
      "Epoch [9/10], Step [1875/1875], Loss: 0.2496\n",
      "Epoch [10/10], Step [1875/1875], Loss: 0.0096\n"
     ]
    }
   ],
   "source": [
    "num_epochs = 10\n",
    "learning_rate = 0.001\n",
    "net = Net()\n",
    "criterion = nn.CrossEntropyLoss()\n",
    "optimizer = torch.optim.Adam(net.parameters(), lr=learning_rate)\n",
    "for epoch in range(num_epochs):\n",
    "    for i, (images, labels) in enumerate(train_loader):   # Load a batch of images with its (index, data, class)\n",
    "        images = Variable(images.view(-1, 28*28))         # Convert torch tensor to Variable: change image from a vector of size 784 to a matrix of 28 x 28\n",
    "        labels = Variable(labels)\n",
    "\n",
    "        optimizer.zero_grad()                             # Intialize the hidden weight to all zeros\n",
    "        outputs = net(images)                             # Forward pass: compute the output class given a image\n",
    "        loss = criterion(outputs, labels)                 # Compute the loss: difference between the output class and the pre-given label\n",
    "        loss.backward()                                   # Backward pass: compute the weight\n",
    "        optimizer.step()                                  # Optimizer: update the weights of hidden nodes\n",
    "\n",
    "        if (i+1) % 1875 == 0:                              # Logging\n",
    "            print('Epoch [%d/%d], Step [%d/%d], Loss: %.4f'\n",
    "                 %(epoch+1, num_epochs, i+1, len(train_dataset)//batch_size, loss.item()))"
   ]
  },
  {
   "cell_type": "code",
   "execution_count": 13,
   "metadata": {},
   "outputs": [
    {
     "name": "stdout",
     "output_type": "stream",
     "text": [
      "Accuracy of the network on the 10K test images: 98 %\n"
     ]
    }
   ],
   "source": [
    "correct = 0\n",
    "total = 0\n",
    "for images, labels in test_loader:\n",
    "    images = Variable(images.view(-1, 28*28))\n",
    "    outputs = net(images)\n",
    "    _, predicted = torch.max(outputs.data, 1)  # Choose the best class from the output: The class with the best score\n",
    "    total += labels.size(0)                    # Increment the total count\n",
    "    correct += (predicted == labels).sum()     # Increment the correct count\n",
    "\n",
    "print('Accuracy of the network on the 10K test images: %d %%' % (100 * correct / total))\n",
    "#计算准确率\n",
    "def net_accurary(data_iter,net):\n",
    "    right_sum,n = 0.0,0\n",
    "    for X,y in data_iter:\n",
    "    #从迭代器data_iter中获取X和y\n",
    "        right_sum += (net(X).argmax(dim=1)==y).float().sum().item()\n",
    "        #计算准确判断的数量\n",
    "        n +=y.shape[0]\n",
    "        #通过shape[0]获取y的零维度（列）的元素数量\n",
    "    return right_sum/n"
   ]
  },
  {
   "cell_type": "code",
   "execution_count": 14,
   "metadata": {},
   "outputs": [],
   "source": [
    "torch.save(net, 'fnn.pkl')"
   ]
  },
  {
   "cell_type": "code",
   "execution_count": 15,
   "metadata": {},
   "outputs": [
    {
     "name": "stderr",
     "output_type": "stream",
     "text": [
      "E:\\ProgramData\\Miniconda3\\envs\\d2l\\lib\\site-packages\\torchmetrics\\utilities\\prints.py:36: UserWarning: Metric `AUROC` will save all targets and predictions in buffer. For large datasets this may lead to large memory footprint.\n",
      "  warnings.warn(*args, **kwargs)\n"
     ]
    },
    {
     "name": "stdout",
     "output_type": "stream",
     "text": [
      "Test Error: \n",
      " Accuracy: 98.1%, Avg loss: 0.075300, torch metrics acc: 98.1%\n",
      "\n",
      "recall of every test dataset class:  tensor([0.9888, 0.9912, 0.9864, 0.9842, 0.9817, 0.9731, 0.9864, 0.9718, 0.9713,\n",
      "        0.9742])\n",
      "precision of every test dataset class:  tensor([0.9878, 0.9894, 0.9686, 0.9764, 0.9847, 0.9875, 0.9772, 0.9862, 0.9783,\n",
      "        0.9752])\n",
      "auc: 0.9984061121940613\n"
     ]
    }
   ],
   "source": [
    "def test_loop(dataloader, model, loss_fn):\n",
    "    # 实例化相关metrics的计算对象\n",
    "    test_acc = torchmetrics.Accuracy()\n",
    "    test_recall = torchmetrics.Recall(average='none', num_classes=10)\n",
    "    test_precision = torchmetrics.Precision(average='none', num_classes=10)\n",
    "    test_auc = torchmetrics.AUROC(average=\"macro\", num_classes=10)\n",
    "\n",
    "    size = len(dataloader.dataset)\n",
    "    num_batches = len(dataloader)\n",
    "    test_loss, correct = 0, 0\n",
    "\n",
    "    with torch.no_grad():\n",
    "        for X, y in dataloader:\n",
    "            X=Variable(X.view(-1, 28 * 28))\n",
    "            pred = model(X)\n",
    "            test_loss += loss_fn(pred, y).item()\n",
    "            correct += (pred.argmax(1) == y).type(torch.float).sum().item()\n",
    "            # 一个batch进行计算迭代\n",
    "            test_acc(pred.argmax(1), y)\n",
    "            test_auc.update(pred, y)\n",
    "            test_recall(pred.argmax(1), y)\n",
    "            test_precision(pred.argmax(1), y)\n",
    "\n",
    "    test_loss /= num_batches\n",
    "    correct /= size\n",
    "\n",
    "    # 计算一个epoch的accuray、recall、precision、AUC\n",
    "    total_acc = test_acc.compute()\n",
    "    total_recall = test_recall.compute()\n",
    "    total_precision = test_precision.compute()\n",
    "    total_auc = test_auc.compute()\n",
    "    print(f\"Test Error: \\n Accuracy: {(100 * correct):>0.1f}%, \"\n",
    "          f\"Avg loss: {test_loss:>8f}, \"\n",
    "          f\"torch metrics acc: {(100 * total_acc):>0.1f}%\\n\")\n",
    "    print(\"recall of every test dataset class: \", total_recall)\n",
    "    print(\"precision of every test dataset class: \", total_precision)\n",
    "    print(\"auc:\", total_auc.item())\n",
    "\n",
    "    # 清空计算对象\n",
    "    test_precision.reset()\n",
    "    test_acc.reset()\n",
    "    test_recall.reset()\n",
    "    test_auc.reset()\n",
    "\n",
    "net1=torch.load(\"fnn.pkl\")\n",
    "loss=nn.CrossEntropyLoss()\n",
    "test_loop(test_loader,net1,loss)"
   ]
  },
  {
   "cell_type": "code",
   "execution_count": 16,
   "metadata": {},
   "outputs": [],
   "source": [
    "pre_loader = torch.utils.data.DataLoader(dataset=test_dataset,\n",
    "                                          batch_size=1,\n",
    "                                          shuffle=False)\n",
    "test_data = iter(pre_loader)\n",
    "category_dict = {0: '0', 1: '1', 2: '2', 3: '3', 4: '4', 5: '5', 6: '6', 7: '7', 8: '8', 9: '9'}\n",
    "test_label = []\n",
    "test_pred = []\n",
    "for data in test_data:\n",
    "    images, labels = data\n",
    "    images = Variable(images.view(-1, 28 * 28))\n",
    "    outputs = net1(images)\n",
    "    _, predicted = torch.max(outputs.data, 1)\n",
    "    test_label.append(category_dict[labels.item()])\n",
    "    test_pred.append(category_dict[predicted.item()])\n"
   ]
  },
  {
   "cell_type": "code",
   "execution_count": 17,
   "metadata": {},
   "outputs": [
    {
     "data": {
      "text/plain": [
       "array([[ 969,    0,    1,    0,    1,    1,    3,    1,    3,    1],\n",
       "       [   0, 1125,    3,    1,    0,    0,    2,    1,    3,    0],\n",
       "       [   3,    0, 1018,    2,    1,    0,    2,    4,    2,    0],\n",
       "       [   0,    0,    6,  994,    0,    2,    0,    2,    3,    3],\n",
       "       [   0,    0,    1,    0,  964,    0,    6,    1,    0,   10],\n",
       "       [   2,    0,    0,   11,    2,  868,    3,    0,    5,    1],\n",
       "       [   2,    3,    2,    1,    2,    3,  945,    0,    0,    0],\n",
       "       [   0,    5,   16,    0,    1,    0,    0,  999,    1,    6],\n",
       "       [   4,    1,    4,    3,    2,    1,    5,    4,  946,    4],\n",
       "       [   1,    3,    0,    6,    6,    4,    1,    1,    4,  983]],\n",
       "      dtype=int64)"
      ]
     },
     "execution_count": 17,
     "metadata": {},
     "output_type": "execute_result"
    }
   ],
   "source": [
    "cm = confusion_matrix(test_label, test_pred)\n",
    "cm"
   ]
  },
  {
   "cell_type": "code",
   "execution_count": 19,
   "metadata": {},
   "outputs": [
    {
     "data": {
      "text/plain": [
       "<AxesSubplot:>"
      ]
     },
     "execution_count": 19,
     "metadata": {},
     "output_type": "execute_result"
    },
    {
     "data": {
      "image/png": "[encoded data removed]",
      "text/plain": [
       "<Figure size 432x288 with 2 Axes>"
      ]
     },
     "metadata": {
      "needs_background": "light"
     },
     "output_type": "display_data"
    }
   ],
   "source": [
    "sns.heatmap(cm,cmap=\"YlGnBu_r\",annot=True,fmt=\"d\")"
   ]
  },
  {
   "cell_type": "code",
   "execution_count": null,
   "metadata": {},
   "outputs": [],
   "source": []
  }
 ],
 "metadata": {
  "interpreter": {
   "hash": "938c81059f38093f03e41c1c03613eea929c644641a92c01b35e4f897b7108a4"
  },
  "kernelspec": {
   "display_name": "Python 3.8.12 ('d2l')",
   "language": "python",
   "name": "python3"
  },
  "language_info": {
   "codemirror_mode": {
    "name": "ipython",
    "version": 3
   },
   "file_extension": ".py",
   "mimetype": "text/x-python",
   "name": "python",
   "nbconvert_exporter": "python",
   "pygments_lexer": "ipython3",
   "version": "3.8.12"
  },
  "orig_nbformat": 4
 },
 "nbformat": 4,
 "nbformat_minor": 2
}
