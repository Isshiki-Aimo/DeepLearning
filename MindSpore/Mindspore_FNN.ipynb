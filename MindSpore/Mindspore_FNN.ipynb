{
 "cells": [
  {
   "cell_type": "code",
   "execution_count": 1,
   "id": "ffe88c59-62d7-40b5-9c5f-4dfd7e3f8fc1",
   "metadata": {},
   "outputs": [],
   "source": [
    "%matplotlib inline\n",
    "#导入相关依赖库\n",
    "from matplotlib import pyplot\n",
    "import numpy as np\n",
    "import mindspore as ms\n",
    "import mindspore.context as context\n",
    "import mindspore.dataset as ds\n",
    "import mindspore.dataset.transforms.c_transforms as C\n",
    "import mindspore.dataset.vision.c_transforms as CV\n",
    "from mindspore.nn.metrics import Accuracy\n",
    "from mindspore import nn\n",
    "from mindspore.train import Model\n",
    "from mindspore.train.callback import  LossMonitor, CheckpointConfig, ModelCheckpoint\n",
    "context.set_context(mode=context.GRAPH_MODE, device_target='CPU') \n",
    "from mindspore.train.callback import ModelCheckpoint,CheckpointConfig\n",
    "from mindspore import load_checkpoint\n",
    "from sklearn.metrics import confusion_matrix\n",
    "import seaborn as sns"
   ]
  },
  {
   "cell_type": "code",
   "execution_count": 2,
   "id": "5e85c1bc-9e79-4695-adc7-741511530791",
   "metadata": {},
   "outputs": [],
   "source": [
    "DATA_DIR_TRAIN = \"D:/DL/MNIST/MNIST/train\" # 训练集信息\n",
    "DATA_DIR_TEST = \"D:/DL/MNIST/MNIST/test\" # 测试集信息"
   ]
  },
  {
   "cell_type": "code",
   "execution_count": 3,
   "id": "d56e623b-bd79-4829-8483-8e36675e2ec7",
   "metadata": {},
   "outputs": [],
   "source": [
    "def create_dataset(training=True, batch_size=128, resize=(28, 28),rescale=1/255, shift=-0.5, buffer_size=64):\n",
    "    ds = ms.dataset.MnistDataset(DATA_DIR_TRAIN if training else DATA_DIR_TEST)\n",
    "    \n",
    "    #定义改变形状、归一化和更改图片维度的操作。\n",
    "    #改为（28,28）的形状\n",
    "    resize_op = CV.Resize(resize)\n",
    "    #rescale方法可以对数据集进行归一化和标准化操作，这里就是将像素值归一到0和1之间，shift参数可以让值域偏移至-0.5和0.5之间\n",
    "    rescale_op = CV.Rescale(rescale, shift)\n",
    "    #由高度、宽度、深度改为深度、高度、宽度\n",
    "    hwc2chw_op = CV.HWC2CHW()\n",
    "    \n",
    "    # 利用map操作对原数据集进行调整\n",
    "    ds = ds.map(input_columns=\"image\", operations=[resize_op, rescale_op, hwc2chw_op])\n",
    "    ds = ds.map(input_columns=\"label\", operations=C.TypeCast(ms.int32))\n",
    "    #设定洗牌缓冲区的大小，从一定程度上控制打乱操作的混乱程度\n",
    "    ds = ds.shuffle(buffer_size=buffer_size)\n",
    "    #设定数据集的batch_size大小，并丢弃剩余的样本\n",
    "    ds = ds.batch(batch_size, drop_remainder=True)\n",
    "    \n",
    "    return ds"
   ]
  },
  {
   "cell_type": "code",
   "execution_count": 4,
   "id": "fe1719d0",
   "metadata": {},
   "outputs": [],
   "source": [
    "#生成训练集\n",
    "ds_train = create_dataset(True, batch_size=32)\n",
    "#生成验证集，验证机不需要训练，所以不需要repeat\n",
    "ds_eval = create_dataset(False, batch_size=32)"
   ]
  },
  {
   "cell_type": "code",
   "execution_count": 5,
   "id": "53e78a7a-7ef6-436c-b905-c002a6313b5f",
   "metadata": {},
   "outputs": [],
   "source": [
    "class ForwardNN(nn.Cell):      \n",
    "    def __init__(self):\n",
    "        super(ForwardNN, self).__init__()\n",
    "        self.flatten = nn.Flatten()\n",
    "        self.relu = nn.ReLU()\n",
    "        self.fc1 = nn.Dense(784, 256, activation='relu')\n",
    "        self.fc2 = nn.Dense(256, 10, activation='softmax')\n",
    "    \n",
    "    def construct(self, input_x):\n",
    "        output = self.flatten(input_x)\n",
    "        output = self.fc1(output)\n",
    "        output = self.fc2(output)\n",
    "        return output "
   ]
  },
  {
   "cell_type": "code",
   "execution_count": 6,
   "id": "01de110c-6c24-49b8-9c2a-7afe16269fcc",
   "metadata": {},
   "outputs": [],
   "source": [
    "lr = 0.001\n",
    "num_epoch = 10\n",
    "\n",
    "net = ForwardNN()\n",
    "loss = nn.loss.SoftmaxCrossEntropyWithLogits( sparse=True, reduction='mean')\n",
    "metrics={\"Accuracy\": Accuracy()}\n",
    "#定义优化器为Adam优化器，并设定学习率\n",
    "opt = nn.Adam(net.trainable_params(), lr)"
   ]
  },
  {
   "cell_type": "code",
   "execution_count": 8,
   "id": "e733ec91-e259-4370-b674-43542a702170",
   "metadata": {},
   "outputs": [],
   "source": [
    "model = Model(net, loss, opt, metrics)\n",
    "config_ck = CheckpointConfig(save_checkpoint_steps=1875, keep_checkpoint_max=10)\n",
    "ckpt_cb = ModelCheckpoint(prefix='ForwardNN', directory='D:/DL/MNIST/Mindspore/model',config=config_ck)"
   ]
  },
  {
   "cell_type": "code",
   "execution_count": 10,
   "id": "99694190-8e9c-49f8-9d40-dc679e978c10",
   "metadata": {},
   "outputs": [
    {
     "name": "stdout",
     "output_type": "stream",
     "text": [
      "============== Starting Training ==============\n",
      "epoch: 1 step: 1875, loss is 1.515730619430542\n",
      "epoch: 2 step: 1875, loss is 1.5149266719818115\n",
      "epoch: 3 step: 1875, loss is 1.5279228687286377\n",
      "epoch: 4 step: 1875, loss is 1.5218631029129028\n",
      "epoch: 5 step: 1875, loss is 1.4611765146255493\n",
      "epoch: 6 step: 1875, loss is 1.4611563682556152\n",
      "epoch: 7 step: 1875, loss is 1.5059442520141602\n",
      "epoch: 8 step: 1875, loss is 1.519830346107483\n",
      "epoch: 9 step: 1875, loss is 1.4922549724578857\n",
      "epoch: 10 step: 1875, loss is 1.506061315536499\n"
     ]
    }
   ],
   "source": [
    "print(\"============== Starting Training ==============\")\n",
    "model.train(num_epoch, ds_train,callbacks=[LossMonitor(1875), ckpt_cb],dataset_sink_mode=False)"
   ]
  },
  {
   "cell_type": "code",
   "execution_count": 11,
   "id": "b28659ec-879e-47eb-803f-d2acb39a36e0",
   "metadata": {},
   "outputs": [
    {
     "name": "stderr",
     "output_type": "stream",
     "text": [
      "[WARNING] ME(18912:3540,MainProcess):2022-03-22-15:33:38.365.447 [mindspore\\train\\model.py:968] CPU cannot support dataset sink mode currently.So the evaluating process will be performed with dataset non-sink mode.\n"
     ]
    },
    {
     "name": "stdout",
     "output_type": "stream",
     "text": [
      "{'Accuracy': 0.9665464743589743}\n"
     ]
    }
   ],
   "source": [
    "#使用测试集评估模型，打印总体准确率\n",
    "metrics_result=model.eval(ds_eval)\n",
    "print(metrics_result)"
   ]
  },
  {
   "cell_type": "code",
   "execution_count": 7,
   "id": "c8094cc1-ac06-4395-a423-da13b000bacb",
   "metadata": {},
   "outputs": [
    {
     "name": "stderr",
     "output_type": "stream",
     "text": [
      "[WARNING] ME(5840:1992,MainProcess):2022-03-28-21:14:47.654.505 [mindspore\\common\\parameter.py:338] The parameter definition is deprecated.\n",
      "Please set a unique name for the parameter 'Parameter (name=Parameter, shape=(256, 784), dtype=Float32, requires_grad=True)'.\n",
      "[WARNING] ME(5840:1992,MainProcess):2022-03-28-21:14:47.654.505 [mindspore\\common\\parameter.py:338] The parameter definition is deprecated.\n",
      "Please set a unique name for the parameter 'Parameter (name=Parameter, shape=(256,), dtype=Float32, requires_grad=True)'.\n",
      "[WARNING] ME(5840:1992,MainProcess):2022-03-28-21:14:47.655.502 [mindspore\\common\\parameter.py:338] The parameter definition is deprecated.\n",
      "Please set a unique name for the parameter 'Parameter (name=Parameter, shape=(10, 256), dtype=Float32, requires_grad=True)'.\n",
      "[WARNING] ME(5840:1992,MainProcess):2022-03-28-21:14:47.656.499 [mindspore\\common\\parameter.py:338] The parameter definition is deprecated.\n",
      "Please set a unique name for the parameter 'Parameter (name=Parameter, shape=(10,), dtype=Float32, requires_grad=True)'.\n",
      "[WARNING] ME(5840:1992,MainProcess):2022-03-28-21:14:47.956.513 [mindspore\\train\\model.py:968] CPU cannot support dataset sink mode currently.So the evaluating process will be performed with dataset non-sink mode.\n"
     ]
    },
    {
     "data": {
      "text/plain": [
       "{'accuracy': 0.9632411858974359,\n",
       " 'loss': 1.498733911376733,\n",
       " 'precision': array([0.96031746, 0.98061674, 0.96868885, 0.96215139, 0.97789474,\n",
       "        0.96598639, 0.96189495, 0.96930693, 0.95525494, 0.92987512]),\n",
       " 'recall': array([0.98876404, 0.98148148, 0.96491228, 0.95643564, 0.94699286,\n",
       "        0.95945946, 0.97698745, 0.95326193, 0.94250513, 0.95936571]),\n",
       " 'f1_score': array([0.97433317, 0.98104892, 0.96679688, 0.959285  , 0.96219575,\n",
       "        0.96271186, 0.96938246, 0.96121748, 0.94883721, 0.94439024])}"
      ]
     },
     "execution_count": 7,
     "metadata": {},
     "output_type": "execute_result"
    }
   ],
   "source": [
    "net_test = ForwardNN()\n",
    "load_checkpoint('D:/DL/MNIST/Mindspore/model/ForwardNN-5_1875.ckpt',net = net_test)\n",
    "Copymetrics = {\n",
    "    'accuracy': nn.Accuracy(),\n",
    "    'loss': nn.Loss(),\n",
    "    'precision': nn.Precision(),\n",
    "    'recall': nn.Recall(),\n",
    "    'f1_score': nn.F1()\n",
    "}\n",
    "model_test = Model(net_test, loss,metrics=Copymetrics)\n",
    "acc = model_test.eval(ds_eval)\n",
    "acc"
   ]
  },
  {
   "cell_type": "code",
   "execution_count": 8,
   "id": "373b53c3",
   "metadata": {},
   "outputs": [],
   "source": [
    "category_dict = {0: '0', 1: '1', 2: '2', 3: '3', 4: '4', 5: '5', 6: '6', 7: '7', 8: '8', 9: '9'}\n",
    "cifar_ds = create_dataset(False, batch_size=1)\n",
    "test_label = []\n",
    "test_pred = []\n",
    "for data in cifar_ds.create_dict_iterator(num_epochs=1, output_numpy=True):\n",
    "    test_label.append(int(data['label']))\n",
    "    input_img = ms.Tensor(data['image'])\n",
    "    output = net_test(input_img)\n",
    "    output = nn.Softmax(axis=1)(output)\n",
    "    pred = output.asnumpy()\n",
    "    pred = np.argmax(pred)\n",
    "    test_pred.append(int(category_dict[pred]))"
   ]
  },
  {
   "cell_type": "code",
   "execution_count": 9,
   "id": "941191bd",
   "metadata": {},
   "outputs": [
    {
     "data": {
      "text/plain": [
       "array([[ 969,    0,    0,    0,    1,    1,    4,    1,    3,    1],\n",
       "       [   0, 1114,    5,    1,    0,    0,    3,    0,   12,    0],\n",
       "       [   6,    2,  996,    5,    2,    3,    4,    8,    6,    0],\n",
       "       [   0,    1,    8,  966,    1,    6,    1,   11,   10,    6],\n",
       "       [   2,    0,    4,    0,  930,    0,    7,    1,    2,   36],\n",
       "       [   3,    0,    0,    8,    2,  856,   12,    0,    5,    6],\n",
       "       [   7,    4,    2,    0,    1,    4,  936,    1,    3,    0],\n",
       "       [   3,    9,   12,    4,    2,    0,    0,  980,    0,   18],\n",
       "       [  11,    1,    1,   11,    5,   11,    5,    5,  918,    6],\n",
       "       [   8,    5,    0,    9,    7,    5,    1,    4,    2,  968]],\n",
       "      dtype=int64)"
      ]
     },
     "execution_count": 9,
     "metadata": {},
     "output_type": "execute_result"
    }
   ],
   "source": [
    "cm = confusion_matrix(test_label, test_pred)\n",
    "cm"
   ]
  },
  {
   "cell_type": "code",
   "execution_count": 10,
   "id": "c6f9be81",
   "metadata": {},
   "outputs": [
    {
     "data": {
      "text/plain": [
       "<AxesSubplot:>"
      ]
     },
     "execution_count": 10,
     "metadata": {},
     "output_type": "execute_result"
    },
    {
     "data": {
      "image/png": "[encoded data removed]",
      "text/plain": [
       "<Figure size 432x288 with 2 Axes>"
      ]
     },
     "metadata": {
      "needs_background": "light"
     },
     "output_type": "display_data"
    }
   ],
   "source": [
    "sns.heatmap(cm,cmap=\"YlGnBu_r\",annot=True,fmt='d')"
   ]
  },
  {
   "cell_type": "code",
   "execution_count": null,
   "id": "64e1b824",
   "metadata": {},
   "outputs": [],
   "source": []
  }
 ],
 "metadata": {
  "kernelspec": {
   "display_name": "Python 3 (ipykernel)",
   "language": "python",
   "name": "python3"
  },
  "language_info": {
   "codemirror_mode": {
    "name": "ipython",
    "version": 3
   },
   "file_extension": ".py",
   "mimetype": "text/x-python",
   "name": "python",
   "nbconvert_exporter": "python",
   "pygments_lexer": "ipython3",
   "version": "3.7.5"
  }
 },
 "nbformat": 4,
 "nbformat_minor": 5
}
