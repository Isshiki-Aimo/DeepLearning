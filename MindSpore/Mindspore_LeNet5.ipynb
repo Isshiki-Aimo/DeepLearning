{
 "cells": [
  {
   "cell_type": "code",
   "execution_count": 40,
   "metadata": {},
   "outputs": [],
   "source": [
    "%matplotlib inline\n",
    "#导入相关依赖库\n",
    "from matplotlib import pyplot\n",
    "import numpy as np\n",
    "import os\n",
    "import mindspore as ms\n",
    "import mindspore.context as context\n",
    "import mindspore.dataset as ds\n",
    "import mindspore.dataset.transforms.c_transforms as C\n",
    "import mindspore.dataset.vision.c_transforms as CV\n",
    "from mindspore.nn.metrics import Accuracy\n",
    "from mindspore import nn\n",
    "from mindspore.train import Model\n",
    "from mindspore.train.callback import  LossMonitor, CheckpointConfig, ModelCheckpoint\n",
    "context.set_context(mode=context.GRAPH_MODE, device_target='CPU') \n",
    "from mindspore.train.callback import ModelCheckpoint,CheckpointConfig\n",
    "from mindspore import load_checkpoint\n",
    "from sklearn.metrics import confusion_matrix\n",
    "import seaborn as sns"
   ]
  },
  {
   "cell_type": "code",
   "execution_count": 41,
   "metadata": {},
   "outputs": [],
   "source": [
    "DATA_DIR_TRAIN = \"D:/DL/MNIST/MNIST/train\" # 训练集信息\n",
    "DATA_DIR_TEST = \"D:/DL/MNIST/MNIST/test\" # 测试集信息\n",
    "DATA_DIR = \"D:/DL/MNIST/MNIST\""
   ]
  },
  {
   "cell_type": "code",
   "execution_count": 42,
   "metadata": {},
   "outputs": [],
   "source": [
    "def create_dataset(training=True, batch_size=32, resize=(32, 32),rescale=1/(255*0.3081), shift=-0.1307/0.3081, buffer_size=64):\n",
    "    ds = ms.dataset.MnistDataset(DATA_DIR_TRAIN if training else DATA_DIR_TEST)\n",
    "    \n",
    "\n",
    "    resize_op = CV.Resize(resize)\n",
    "    #rescale方法可以对数据集进行归一化和标准化操作，这里就是将像素值归一到0和1之间，shift参数可以让值域偏移至-0.5和0.5之间\n",
    "    rescale_op = CV.Rescale(rescale, shift)\n",
    "    hwc2chw_op = CV.HWC2CHW()\n",
    "    \n",
    "    # 利用map操作对原数据集进行调整\n",
    "    ds = ds.map(input_columns=\"image\", operations=[resize_op, rescale_op, hwc2chw_op])\n",
    "    ds = ds.map(input_columns=\"label\", operations=C.TypeCast(ms.int32))\n",
    "    ds = ds.shuffle(buffer_size=buffer_size)\n",
    "    ds = ds.batch(batch_size, drop_remainder=True)\n",
    "    \n",
    "    return ds"
   ]
  },
  {
   "cell_type": "code",
   "execution_count": 43,
   "metadata": {},
   "outputs": [],
   "source": [
    "class LeNet5(nn.Cell):\n",
    "    def __init__(self):\n",
    "        super(LeNet5, self).__init__()\n",
    "        self.conv1 = nn.Conv2d(1, 6, 5, stride=1, pad_mode='valid')\n",
    "        self.conv2 = nn.Conv2d(6, 16, 5, stride=1, pad_mode='valid')\n",
    "        self.relu = nn.ReLU()\n",
    "        self.pool = nn.MaxPool2d(kernel_size=2, stride=2)\n",
    "        self.flatten = nn.Flatten()\n",
    "        self.fc1 = nn.Dense(400, 120)\n",
    "        self.fc2 = nn.Dense(120, 84)\n",
    "        self.fc3 = nn.Dense(84, 10)\n",
    "\n",
    "    def construct(self, x):\n",
    "        x = self.relu(self.conv1(x))\n",
    "        x = self.pool(x)\n",
    "        x = self.relu(self.conv2(x))\n",
    "        x = self.pool(x)\n",
    "        x = self.flatten(x)\n",
    "        x = self.fc1(x)\n",
    "        x = self.fc2(x)\n",
    "        x = self.fc3(x)\n",
    "\n",
    "        return x"
   ]
  },
  {
   "cell_type": "code",
   "execution_count": 44,
   "metadata": {},
   "outputs": [
    {
     "name": "stdout",
     "output_type": "stream",
     "text": [
      "epoch: 1 step: 1875, loss is 2.295088768005371\n",
      "epoch: 2 step: 1875, loss is 0.468563973903656\n",
      "epoch: 3 step: 1875, loss is 0.08443644642829895\n"
     ]
    }
   ],
   "source": [
    "def train(lr=0.01, momentum=0.9, num_epochs=3):\n",
    "    ds_train = create_dataset(training=True)\n",
    "    net = LeNet5()\n",
    "    loss = nn.loss.SoftmaxCrossEntropyWithLogits(sparse=True, reduction='mean')\n",
    "    opt = nn.Momentum(net.trainable_params(), lr, momentum)\n",
    "    loss_cb = LossMonitor(per_print_times=ds_train.get_dataset_size())\n",
    "    metrics = {\n",
    "    'accuracy': nn.Accuracy(),\n",
    "    'loss': nn.Loss(),\n",
    "    'precision': nn.Precision(),\n",
    "    'recall': nn.Recall(),\n",
    "    'f1_score': nn.F1()\n",
    "}\n",
    "    model = Model(net, loss, opt, metrics=metrics)\n",
    "    model.train(num_epochs, ds_train, callbacks=[loss_cb], dataset_sink_mode=False)\n",
    "    return model\n",
    "model = train()"
   ]
  },
  {
   "cell_type": "code",
   "execution_count": 45,
   "metadata": {},
   "outputs": [
    {
     "name": "stdout",
     "output_type": "stream",
     "text": [
      "Metrics: {'accuracy': 0.9730568910256411, 'loss': 0.08062977199174035, 'precision': array([0.96996997, 0.98677249, 0.97705545, 0.95512195, 0.98871795,\n",
      "       0.93461951, 0.97502601, 0.99487179, 0.96257796, 0.9825462 ]), 'recall': array([0.9897855 , 0.98677249, 0.99031008, 0.97123016, 0.98267074,\n",
      "       0.97977528, 0.98115183, 0.94449854, 0.95463918, 0.94940476]), 'f1_score': array([0.97977755, 0.98677249, 0.98363811, 0.96310871, 0.98568507,\n",
      "       0.95666484, 0.97807933, 0.96903097, 0.95859213, 0.96569122])}\n"
     ]
    }
   ],
   "source": [
    "def test(model):\n",
    "    ds_eval = create_dataset(training=False)\n",
    "    metrics = {\n",
    "    'accuracy': nn.Accuracy(),\n",
    "    'loss': nn.Loss(),\n",
    "    'precision': nn.Precision(),\n",
    "    'recall': nn.Recall(),\n",
    "    'f1_score': nn.F1()\n",
    "}\n",
    "    metrics = model.eval(ds_eval, dataset_sink_mode=False)\n",
    "    print('Metrics:', metrics)\n",
    "test(model)"
   ]
  },
  {
   "cell_type": "code",
   "execution_count": 46,
   "metadata": {},
   "outputs": [],
   "source": [
    "cifar_ds = create_dataset(training=False, batch_size=32)\n",
    "test_label = []\n",
    "test_pred = []\n",
    "for data in cifar_ds.create_dict_iterator(num_epochs=1, output_numpy=True):\n",
    "    test_label.extend(data['label'])\n",
    "    input_img = ms.Tensor(data['image'])\n",
    "    output = model.predict(input_img)\n",
    "    output = nn.Softmax(axis=1)(output)\n",
    "    pred = output.asnumpy()\n",
    "    pred = np.argmax(pred, axis=1)\n",
    "    test_pred.extend(pred)"
   ]
  },
  {
   "cell_type": "code",
   "execution_count": 47,
   "metadata": {},
   "outputs": [
    {
     "data": {
      "text/plain": [
       "array([[9.90788127e-01, 0.00000000e+00, 0.00000000e+00, 1.02354145e-03,\n",
       "        0.00000000e+00, 0.00000000e+00, 5.11770727e-03, 1.02354145e-03,\n",
       "        2.04708291e-03, 0.00000000e+00],\n",
       "       [0.00000000e+00, 9.86760812e-01, 1.76522507e-03, 1.76522507e-03,\n",
       "        0.00000000e+00, 0.00000000e+00, 1.76522507e-03, 0.00000000e+00,\n",
       "        7.94351280e-03, 0.00000000e+00],\n",
       "       [3.87596899e-03, 9.68992248e-04, 9.90310078e-01, 2.90697674e-03,\n",
       "        0.00000000e+00, 0.00000000e+00, 0.00000000e+00, 9.68992248e-04,\n",
       "        9.68992248e-04, 0.00000000e+00],\n",
       "       [9.92063492e-04, 0.00000000e+00, 1.98412698e-03, 9.71230159e-01,\n",
       "        0.00000000e+00, 1.98412698e-02, 0.00000000e+00, 9.92063492e-04,\n",
       "        3.96825397e-03, 9.92063492e-04],\n",
       "       [1.01936799e-03, 1.01936799e-03, 0.00000000e+00, 2.03873598e-03,\n",
       "        9.82670744e-01, 0.00000000e+00, 4.07747197e-03, 0.00000000e+00,\n",
       "        3.05810398e-03, 6.11620795e-03],\n",
       "       [2.24719101e-03, 0.00000000e+00, 0.00000000e+00, 5.61797753e-03,\n",
       "        0.00000000e+00, 9.79775281e-01, 8.98876404e-03, 0.00000000e+00,\n",
       "        3.37078652e-03, 0.00000000e+00],\n",
       "       [5.23012552e-03, 2.09205021e-03, 1.04602510e-03, 0.00000000e+00,\n",
       "        2.09205021e-03, 6.27615063e-03, 9.81171548e-01, 0.00000000e+00,\n",
       "        2.09205021e-03, 0.00000000e+00],\n",
       "       [0.00000000e+00, 4.87329435e-03, 1.36452242e-02, 2.24171540e-02,\n",
       "        9.74658869e-04, 3.89863548e-03, 0.00000000e+00, 9.44444444e-01,\n",
       "        2.92397661e-03, 6.82261209e-03],\n",
       "       [1.33607400e-02, 0.00000000e+00, 5.13874615e-03, 5.13874615e-03,\n",
       "        2.05549846e-03, 1.13052415e-02, 4.11099692e-03, 1.02774923e-03,\n",
       "        9.54779034e-01, 3.08324769e-03],\n",
       "       [3.96825397e-03, 5.95238095e-03, 0.00000000e+00, 4.96031746e-03,\n",
       "        5.95238095e-03, 1.98412698e-02, 0.00000000e+00, 9.92063492e-04,\n",
       "        8.92857143e-03, 9.49404762e-01]])"
      ]
     },
     "execution_count": 47,
     "metadata": {},
     "output_type": "execute_result"
    }
   ],
   "source": [
    "cm = confusion_matrix(test_label, test_pred,normalize='true')\n",
    "cm"
   ]
  },
  {
   "cell_type": "code",
   "execution_count": 48,
   "metadata": {},
   "outputs": [
    {
     "data": {
      "text/plain": [
       "<AxesSubplot:>"
      ]
     },
     "execution_count": 48,
     "metadata": {},
     "output_type": "execute_result"
    },
    {
     "data": {
      "image/png": "[encoded data removed]",
      "text/plain": [
       "<Figure size 432x288 with 2 Axes>"
      ]
     },
     "metadata": {
      "needs_background": "light"
     },
     "output_type": "display_data"
    }
   ],
   "source": [
    "sns.heatmap(cm,cmap=\"YlGnBu_r\")"
   ]
  },
  {
   "cell_type": "code",
   "execution_count": null,
   "metadata": {},
   "outputs": [],
   "source": []
  }
 ],
 "metadata": {
  "interpreter": {
   "hash": "373151cbc95481ea95ac7d68576d58b9482a31c462ca054c3f25e7238c652c99"
  },
  "kernelspec": {
   "display_name": "Python 3.7.5 ('MindSpore')",
   "language": "python",
   "name": "python3"
  },
  "language_info": {
   "codemirror_mode": {
    "name": "ipython",
    "version": 3
   },
   "file_extension": ".py",
   "mimetype": "text/x-python",
   "name": "python",
   "nbconvert_exporter": "python",
   "pygments_lexer": "ipython3",
   "version": "3.7.5"
  },
  "orig_nbformat": 4
 },
 "nbformat": 4,
 "nbformat_minor": 2
}
