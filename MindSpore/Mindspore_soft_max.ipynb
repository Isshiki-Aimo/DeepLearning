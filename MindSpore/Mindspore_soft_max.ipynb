{
 "cells": [
  {
   "cell_type": "code",
   "execution_count": 1,
   "metadata": {},
   "outputs": [],
   "source": [
    "%matplotlib inline\n",
    "#导入相关依赖库\n",
    "import mindspore as ms\n",
    "import mindspore.context as context\n",
    "import numpy as np\n",
    "import mindspore.dataset\n",
    "import mindspore.dataset.transforms.c_transforms as C\n",
    "import mindspore.dataset.vision.c_transforms as CV\n",
    "from mindspore.nn.metrics import Accuracy\n",
    "from mindspore import nn\n",
    "from mindspore.train import Model\n",
    "from mindspore.train.callback import  LossMonitor\n",
    "context.set_context(mode=context.GRAPH_MODE, device_target='CPU') \n",
    "from mindspore.train.callback import ModelCheckpoint,CheckpointConfig\n",
    "from mindspore import load_checkpoint\n",
    "from sklearn.metrics import confusion_matrix\n",
    "import seaborn as sns"
   ]
  },
  {
   "cell_type": "code",
   "execution_count": 2,
   "metadata": {},
   "outputs": [],
   "source": [
    "DATA_DIR_TRAIN = \"D:/DL/MNIST/MNIST/train\" # 训练集信息\n",
    "DATA_DIR_TEST = \"D:/DL/MNIST/MNIST/test\" # 测试集信息"
   ]
  },
  {
   "cell_type": "code",
   "execution_count": 3,
   "metadata": {},
   "outputs": [],
   "source": [
    "def create_dataset(training=True, batch_size=128, resize=(28, 28),rescale=1/255, shift=-0.5, buffer_size=64):\n",
    "    ds = ms.dataset.MnistDataset(DATA_DIR_TRAIN if training else DATA_DIR_TEST)\n",
    "    \n",
    "    #定义改变形状、归一化和更改图片维度的操作。\n",
    "    #改为（28,28）的形状\n",
    "    resize_op = CV.Resize(resize)\n",
    "    #rescale方法可以对数据集进行归一化和标准化操作，这里就是将像素值归一到0和1之间，shift参数可以让值域偏移至-0.5和0.5之间\n",
    "    rescale_op = CV.Rescale(rescale, shift)\n",
    "    #由高度、宽度、深度改为深度、高度、宽度\n",
    "    hwc2chw_op = CV.HWC2CHW()\n",
    "    \n",
    "    # 利用map操作对原数据集进行调整\n",
    "    ds = ds.map(input_columns=\"image\", operations=[resize_op, rescale_op, hwc2chw_op])\n",
    "    ds = ds.map(input_columns=\"label\", operations=C.TypeCast(ms.int32))\n",
    "    #设定洗牌缓冲区的大小，从一定程度上控制打乱操作的混乱程度\n",
    "    ds = ds.shuffle(buffer_size=buffer_size)\n",
    "    #设定数据集的batch_size大小，并丢弃剩余的样本\n",
    "    ds = ds.batch(batch_size, drop_remainder=True)\n",
    "    \n",
    "    return ds"
   ]
  },
  {
   "cell_type": "code",
   "execution_count": 4,
   "metadata": {},
   "outputs": [],
   "source": [
    "#生成训练集\n",
    "ds_train = create_dataset(True, batch_size=32)\n",
    "#生成验证集，验证机不需要训练，所以不需要repeat\n",
    "ds_eval = create_dataset(False, batch_size=32)"
   ]
  },
  {
   "cell_type": "code",
   "execution_count": 5,
   "metadata": {},
   "outputs": [],
   "source": [
    "# 最简单的softmax分类器\n",
    "class soft_max(nn.Cell):      \n",
    "    def __init__(self):\n",
    "        super(soft_max, self).__init__()\n",
    "        self.flatten = nn.Flatten()\n",
    "        self.Linear = nn.Dense(784,10)\n",
    "    \n",
    "    def construct(self, input_x):\n",
    "        output = self.flatten(input_x)\n",
    "        output = self.Linear(output)\n",
    "        return output "
   ]
  },
  {
   "cell_type": "code",
   "execution_count": 6,
   "metadata": {},
   "outputs": [],
   "source": [
    "# 设置学习率，循环次数\n",
    "lr = 0.001\n",
    "num_epoch = 10\n",
    "loss = nn.loss.SoftmaxCrossEntropyWithLogits( sparse=True, reduction='mean')\n",
    "net = soft_max()\n",
    "metrics={\"Accuracy\": Accuracy()}\n",
    "#定义优化器为Adam优化器，并设定学习率\n",
    "opt = nn.Adam(net.trainable_params(), lr)"
   ]
  },
  {
   "cell_type": "code",
   "execution_count": 7,
   "metadata": {},
   "outputs": [],
   "source": [
    "model = Model(net, loss, opt, metrics)\n",
    "config_ck = CheckpointConfig(save_checkpoint_steps=1875, keep_checkpoint_max=10)\n",
    "# ckpt_cb = ModelCheckpoint(prefix='Soft_max', directory='D:/DL/MNIST/Mindspore/model',config=config_ck)"
   ]
  },
  {
   "cell_type": "code",
   "execution_count": 71,
   "metadata": {},
   "outputs": [
    {
     "name": "stderr",
     "output_type": "stream",
     "text": [
      "[WARNING] ME(17272:12032,MainProcess):2022-03-23-09:24:41.791.796 [mindspore\\train\\model.py:550] The CPU cannot support dataset sink mode currently.So the training process will be performed with dataset not sink.\n"
     ]
    },
    {
     "name": "stdout",
     "output_type": "stream",
     "text": [
      "epoch: 1 step: 1875, loss is 0.37056875228881836\n",
      "epoch: 2 step: 1875, loss is 0.2145053744316101\n",
      "epoch: 3 step: 1875, loss is 0.46625757217407227\n",
      "epoch: 4 step: 1875, loss is 0.26611530780792236\n",
      "epoch: 5 step: 1875, loss is 0.07461484521627426\n",
      "epoch: 6 step: 1875, loss is 0.11098938435316086\n",
      "epoch: 7 step: 1875, loss is 0.1871420294046402\n",
      "epoch: 8 step: 1875, loss is 0.5044193267822266\n",
      "epoch: 9 step: 1875, loss is 0.33120453357696533\n",
      "epoch: 10 step: 1875, loss is 0.30297377705574036\n"
     ]
    }
   ],
   "source": [
    "model.train(num_epoch, ds_train,callbacks=[LossMonitor(1875)],dataset_sink_mode=True)"
   ]
  },
  {
   "cell_type": "code",
   "execution_count": 72,
   "metadata": {},
   "outputs": [
    {
     "name": "stderr",
     "output_type": "stream",
     "text": [
      "[WARNING] ME(17272:12032,MainProcess):2022-03-23-09:25:15.671.461 [mindspore\\train\\model.py:968] CPU cannot support dataset sink mode currently.So the evaluating process will be performed with dataset non-sink mode.\n"
     ]
    },
    {
     "name": "stdout",
     "output_type": "stream",
     "text": [
      "{'Accuracy': 0.9156650641025641}\n"
     ]
    }
   ],
   "source": [
    "#使用测试集评估模型，打印总体准确率\n",
    "metrics_result=model.eval(ds_eval)\n",
    "print(metrics_result)"
   ]
  },
  {
   "cell_type": "code",
   "execution_count": 8,
   "metadata": {},
   "outputs": [
    {
     "name": "stderr",
     "output_type": "stream",
     "text": [
      "[WARNING] ME(18868:14372,MainProcess):2022-03-28-21:17:23.263.36 [mindspore\\common\\parameter.py:338] The parameter definition is deprecated.\n",
      "Please set a unique name for the parameter 'Parameter (name=Parameter, shape=(10, 784), dtype=Float32, requires_grad=True)'.\n",
      "[WARNING] ME(18868:14372,MainProcess):2022-03-28-21:17:23.273.34 [mindspore\\common\\parameter.py:338] The parameter definition is deprecated.\n",
      "Please set a unique name for the parameter 'Parameter (name=Parameter, shape=(10,), dtype=Float32, requires_grad=True)'.\n",
      "[WARNING] ME(18868:14372,MainProcess):2022-03-28-21:17:23.323.21 [mindspore\\train\\model.py:968] CPU cannot support dataset sink mode currently.So the evaluating process will be performed with dataset non-sink mode.\n"
     ]
    },
    {
     "data": {
      "text/plain": [
       "{'accuracy': 0.9200721153846154,\n",
       " 'loss': 0.2897370919549408,\n",
       " 'precision': array([0.93542074, 0.94013491, 0.93858751, 0.89059501, 0.90945274,\n",
       "        0.88340807, 0.94642857, 0.93307087, 0.89312169, 0.92397043]),\n",
       " 'recall': array([0.97750511, 0.98411297, 0.88856589, 0.92154916, 0.93170234,\n",
       "        0.88340807, 0.94444444, 0.92307692, 0.86831276, 0.86805556]),\n",
       " 'f1_score': array([0.956     , 0.96162139, 0.91289199, 0.90580771, 0.9204431 ,\n",
       "        0.88340807, 0.94543547, 0.92804699, 0.88054251, 0.89514066])}"
      ]
     },
     "execution_count": 8,
     "metadata": {},
     "output_type": "execute_result"
    }
   ],
   "source": [
    "net_test = soft_max()\n",
    "load_checkpoint('D:/DL/MNIST/Mindspore/model/Soft_max-10_1875.ckpt',net = net_test)\n",
    "Copymetrics = {\n",
    "    'accuracy': nn.Accuracy(),\n",
    "    'loss': nn.Loss(),\n",
    "    'precision': nn.Precision(),\n",
    "    'recall': nn.Recall(),\n",
    "    'f1_score': nn.F1()\n",
    "}\n",
    "model_test = Model(net_test, loss,metrics=Copymetrics)\n",
    "acc = model_test.eval(ds_eval)\n",
    "acc"
   ]
  },
  {
   "cell_type": "code",
   "execution_count": 9,
   "metadata": {},
   "outputs": [],
   "source": [
    "category_dict = {0: '0', 1: '1', 2: '2', 3: '3', 4: '4', 5: '5', 6: '6', 7: '7', 8: '8', 9: '9'}\n",
    "cifar_ds = create_dataset(False, batch_size=1)\n",
    "test_label = []\n",
    "test_pred = []\n",
    "for data in cifar_ds.create_dict_iterator(num_epochs=1, output_numpy=True):\n",
    "    test_label.append(int(data['label']))\n",
    "    input_img = ms.Tensor(data['image'])\n",
    "    output = net_test(input_img)\n",
    "    output = nn.Softmax(axis=1)(output)\n",
    "    pred = output.asnumpy()\n",
    "    pred = np.argmax(pred)\n",
    "    test_pred.append(int(category_dict[pred]))"
   ]
  },
  {
   "cell_type": "code",
   "execution_count": 10,
   "metadata": {},
   "outputs": [
    {
     "data": {
      "text/plain": [
       "array([[ 958,    0,    0,    1,    0,   12,    3,    1,    3,    2],\n",
       "       [   0, 1117,    2,    1,    0,    1,    4,    0,   10,    0],\n",
       "       [  10,   11,  917,   17,   11,    7,   11,   10,   34,    4],\n",
       "       [   2,    2,   17,  931,    1,   25,    3,    9,   14,    6],\n",
       "       [   3,    6,    5,    2,  914,    3,    8,    2,   11,   28],\n",
       "       [  10,    7,    4,   31,    7,  788,   16,    6,   19,    4],\n",
       "       [  13,    4,    9,    1,    9,   11,  905,    2,    4,    0],\n",
       "       [   3,   15,   15,   13,    8,    1,    0,  949,    4,   20],\n",
       "       [  11,   16,    6,   28,   13,   35,    6,    5,  846,    8],\n",
       "       [  14,   10,    2,   20,   42,    9,    0,   33,    3,  876]],\n",
       "      dtype=int64)"
      ]
     },
     "execution_count": 10,
     "metadata": {},
     "output_type": "execute_result"
    }
   ],
   "source": [
    "cm = confusion_matrix(test_label, test_pred)\n",
    "cm"
   ]
  },
  {
   "cell_type": "code",
   "execution_count": 11,
   "metadata": {},
   "outputs": [
    {
     "data": {
      "text/plain": [
       "<AxesSubplot:>"
      ]
     },
     "execution_count": 11,
     "metadata": {},
     "output_type": "execute_result"
    },
    {
     "data": {
      "image/png": "[encoded data removed]",
      "text/plain": [
       "<Figure size 432x288 with 2 Axes>"
      ]
     },
     "metadata": {
      "needs_background": "light"
     },
     "output_type": "display_data"
    }
   ],
   "source": [
    "sns.heatmap(cm,cmap=\"YlGnBu_r\",annot=True,fmt='d')"
   ]
  }
 ],
 "metadata": {
  "interpreter": {
   "hash": "373151cbc95481ea95ac7d68576d58b9482a31c462ca054c3f25e7238c652c99"
  },
  "kernelspec": {
   "display_name": "Python 3.7.5 ('MindSpore')",
   "language": "python",
   "name": "python3"
  },
  "language_info": {
   "codemirror_mode": {
    "name": "ipython",
    "version": 3
   },
   "file_extension": ".py",
   "mimetype": "text/x-python",
   "name": "python",
   "nbconvert_exporter": "python",
   "pygments_lexer": "ipython3",
   "version": "3.7.5"
  },
  "orig_nbformat": 4
 },
 "nbformat": 4,
 "nbformat_minor": 2
}
