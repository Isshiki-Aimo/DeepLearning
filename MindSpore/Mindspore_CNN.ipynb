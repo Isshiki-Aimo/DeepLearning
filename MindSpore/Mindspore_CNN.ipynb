{
 "cells": [
  {
   "cell_type": "code",
   "execution_count": 23,
   "metadata": {},
   "outputs": [],
   "source": [
    "%matplotlib inline\n",
    "#导入相关依赖库\n",
    "from matplotlib import pyplot\n",
    "import numpy as np\n",
    "import os\n",
    "import mindspore as ms\n",
    "import mindspore.context as context\n",
    "import mindspore.dataset as ds\n",
    "import mindspore.dataset.transforms.c_transforms as C\n",
    "import mindspore.dataset.vision.c_transforms as CV\n",
    "from mindspore.nn.metrics import Accuracy\n",
    "from mindspore import nn\n",
    "from mindspore.train import Model\n",
    "from mindspore.train.callback import  LossMonitor, CheckpointConfig, ModelCheckpoint\n",
    "context.set_context(mode=context.GRAPH_MODE, device_target='CPU') \n",
    "from mindspore.train.callback import ModelCheckpoint,CheckpointConfig\n",
    "from mindspore import load_checkpoint\n",
    "from sklearn.metrics import confusion_matrix\n",
    "import seaborn as sns\n",
    "from mindspore.ops import operations as P"
   ]
  },
  {
   "cell_type": "code",
   "execution_count": 24,
   "metadata": {},
   "outputs": [],
   "source": [
    "DATA_DIR_TRAIN = \"D:/DL/MNIST/MNIST/train\" # 训练集信息\n",
    "DATA_DIR_TEST = \"D:/DL/MNIST/MNIST/test\" # 测试集信息\n",
    "DATA_DIR = \"D:/DL/MNIST/MNIST\""
   ]
  },
  {
   "cell_type": "code",
   "execution_count": 25,
   "metadata": {},
   "outputs": [],
   "source": [
    "def create_dataset(training=True, batch_size=32, resize=(32, 32),rescale=1/(255*0.3081), shift=-0.1307/0.3081, buffer_size=64,drop_remainder = True):\n",
    "    ds = ms.dataset.MnistDataset(DATA_DIR_TRAIN if training else DATA_DIR_TEST)\n",
    "    \n",
    "\n",
    "    resize_op = CV.Resize(resize)\n",
    "    #rescale方法可以对数据集进行归一化和标准化操作，这里就是将像素值归一到0和1之间，shift参数可以让值域偏移至-0.5和0.5之间\n",
    "    rescale_op = CV.Rescale(rescale, shift)\n",
    "    hwc2chw_op = CV.HWC2CHW()\n",
    "    \n",
    "    # 利用map操作对原数据集进行调整\n",
    "    ds = ds.map(input_columns=\"image\", operations=[resize_op, rescale_op, hwc2chw_op])\n",
    "    ds = ds.map(input_columns=\"label\", operations=C.TypeCast(ms.int32))\n",
    "    ds = ds.shuffle(buffer_size=buffer_size)\n",
    "    ds = ds.batch(batch_size, drop_remainder)\n",
    "    \n",
    "    return ds"
   ]
  },
  {
   "cell_type": "code",
   "execution_count": 26,
   "metadata": {},
   "outputs": [],
   "source": [
    "class ResidualBlock(nn.Cell):\n",
    "    def __init__(self,\n",
    "                 in_channel,\n",
    "                 out_channel,\n",
    "                 stride=1):\n",
    "        super(ResidualBlock, self).__init__()\n",
    "        channel = out_channel\n",
    "        self.conv1 = nn.Conv2d(in_channel, channel,kernel_size=3, stride=1)\n",
    "        self.bn1 = nn.BatchNorm2d(channel)\n",
    "        self.conv2 = nn.Conv2d(channel, channel,kernel_size=3, stride=stride)\n",
    "        self.bn2 = nn.BatchNorm2d(channel)\n",
    "        self.conv3 = nn.Conv2d(channel, out_channel,kernel_size=1, stride=1)\n",
    "        self.bn3 = nn.BatchNorm2d(out_channel)\n",
    "        self.relu = nn.ReLU()\n",
    "        self.down_sample = False\n",
    "        if stride != 1 or in_channel != out_channel:\n",
    "            self.down_sample = True\n",
    "        self.down_sample_layer = None\n",
    "        if self.down_sample:\n",
    "            self.down_sample_layer = nn.SequentialCell([nn.Conv2d(channel, out_channel,kernel_size=1, stride=1),\n",
    "                                                        nn.BatchNorm2d(out_channel)])\n",
    "        self.add = P.Add()\n",
    "    def construct(self, x):\n",
    "        identity = x\n",
    "        out = self.conv1(x)\n",
    "        out = self.bn1(out)\n",
    "        out = self.relu(out)\n",
    "        out = self.conv2(out)\n",
    "        out = self.bn2(out)\n",
    "        out = self.relu(out)\n",
    "        out = self.conv3(out)\n",
    "        out = self.bn3(out)\n",
    "        if self.down_sample:\n",
    "            identity = self.down_sample_layer(identity)\n",
    "        out = self.add(out, identity)\n",
    "        out = self.relu(out)\n",
    "        return out"
   ]
  },
  {
   "cell_type": "code",
   "execution_count": 27,
   "metadata": {},
   "outputs": [],
   "source": [
    "class CNN(nn.Cell):\n",
    "    def __init__(self):\n",
    "        super(CNN, self).__init__()\n",
    "        self.conv1 = nn.Conv2d(1, 6, 3, stride=1, pad_mode='same')\n",
    "        self.conv2 = nn.Conv2d(6, 16, 3, stride=1, pad_mode='same')\n",
    "        self.res1 = ResidualBlock(6, 6, stride=1)\n",
    "        self.res2 = ResidualBlock(16, 16, stride=1)\n",
    "        self.relu = nn.ReLU()\n",
    "        self.pool = nn.MaxPool2d(kernel_size=2, stride=2)\n",
    "        self.flatten = nn.Flatten()\n",
    "        self.fc1 = nn.Dense(16*8*8, 120,activation='relu')\n",
    "        self.fc2 = nn.Dense(120, 84,activation='relu')\n",
    "        self.fc3 = nn.Dense(84, 10)\n",
    "        self.dropout = nn.Dropout(0.9)\n",
    "    #构建网络\n",
    "    def construct(self, x):\n",
    "        x = self.relu(self.res1(self.conv1(x)))\n",
    "        x = self.pool(x)\n",
    "        x = self.relu(self.res2(self.conv2(x)))\n",
    "        x = self.pool(x)\n",
    "        x = self.flatten(x)\n",
    "        x = self.fc1(x,)\n",
    "        x = self.dropout(x)\n",
    "        x = self.fc2(x)\n",
    "        x = self.dropout(x)\n",
    "        x = self.fc3(x)\n",
    "\n",
    "        return x"
   ]
  },
  {
   "cell_type": "code",
   "execution_count": 28,
   "metadata": {},
   "outputs": [],
   "source": [
    "# net = ResidualBlock(1, 6, stride=1)\n",
    "# print(net)\n",
    "# input = ms.Tensor(np.ones([1, 1, 32, 32]), ms.float32)\n",
    "# output = net(input)\n",
    "# print(output.shape)"
   ]
  },
  {
   "cell_type": "code",
   "execution_count": 29,
   "metadata": {},
   "outputs": [
    {
     "name": "stdout",
     "output_type": "stream",
     "text": [
      "epoch: 1 step: 1875, loss is 0.20250794291496277\n",
      "epoch: 2 step: 1875, loss is 0.008436259813606739\n",
      "epoch: 3 step: 1875, loss is 0.008808090351521969\n"
     ]
    }
   ],
   "source": [
    "def train(lr=0.01, momentum=0.9, num_epochs=3):\n",
    "    ds_train = create_dataset(training=True,batch_size=32)\n",
    "    net = CNN()\n",
    "    loss = nn.loss.SoftmaxCrossEntropyWithLogits(sparse=True, reduction='mean')\n",
    "    opt = nn.Momentum(net.trainable_params(), lr, momentum)\n",
    "    loss_cb = LossMonitor(per_print_times=ds_train.get_dataset_size())\n",
    "    metrics = {\n",
    "    'accuracy': nn.Accuracy(),\n",
    "    'loss': nn.Loss(),\n",
    "    'precision': nn.Precision(),\n",
    "    'recall': nn.Recall(),\n",
    "    'f1_score': nn.F1()\n",
    "}\n",
    "    model = Model(net, loss, opt, metrics=metrics)\n",
    "    model.train(num_epochs, ds_train, callbacks=[loss_cb], dataset_sink_mode=False)\n",
    "    return model\n",
    "model = train()"
   ]
  },
  {
   "cell_type": "code",
   "execution_count": 30,
   "metadata": {},
   "outputs": [
    {
     "name": "stdout",
     "output_type": "stream",
     "text": [
      "Metrics: {'accuracy': 0.9827, 'loss': 0.05342913310626706, 'precision': array([0.98487903, 0.98598949, 0.97898758, 0.97365854, 0.99381443,\n",
      "       0.98100559, 0.99263158, 0.97115385, 0.97843943, 0.98756477]), 'recall': array([0.99693878, 0.99207048, 0.99321705, 0.98811881, 0.98167006,\n",
      "       0.98430493, 0.98434238, 0.98249027, 0.97843943, 0.9444995 ]), 'f1_score': array([0.99087221, 0.98902064, 0.98605099, 0.98083538, 0.98770492,\n",
      "       0.98265249, 0.9884696 , 0.97678917, 0.97843943, 0.96555218])}\n"
     ]
    }
   ],
   "source": [
    "def test(model):\n",
    "    ds_eval = create_dataset(training=False,drop_remainder=False)\n",
    "    metrics = {\n",
    "    'accuracy': nn.Accuracy(),\n",
    "    'loss': nn.Loss(),\n",
    "    'precision': nn.Precision(),\n",
    "    'recall': nn.Recall(),\n",
    "    'f1_score': nn.F1()\n",
    "}\n",
    "    metrics = model.eval(ds_eval, dataset_sink_mode=False)\n",
    "    print('Metrics:', metrics)\n",
    "test(model)"
   ]
  },
  {
   "cell_type": "code",
   "execution_count": 31,
   "metadata": {},
   "outputs": [],
   "source": [
    "cifar_ds = create_dataset(training=False, batch_size=32,drop_remainder=False)\n",
    "test_label = []\n",
    "test_pred = []\n",
    "for data in cifar_ds.create_dict_iterator(num_epochs=3, output_numpy=True):\n",
    "    test_label.extend(data['label'])\n",
    "    input_img = ms.Tensor(data['image'])\n",
    "    output = model.predict(input_img)\n",
    "    output = nn.Softmax(axis=1)(output)\n",
    "    pred = output.asnumpy()\n",
    "    pred = np.argmax(pred, axis=1)\n",
    "    test_pred.extend(pred)"
   ]
  },
  {
   "cell_type": "code",
   "execution_count": 32,
   "metadata": {},
   "outputs": [
    {
     "data": {
      "text/plain": [
       "array([[9.96938776e-01, 0.00000000e+00, 0.00000000e+00, 0.00000000e+00,\n",
       "        0.00000000e+00, 0.00000000e+00, 1.02040816e-03, 1.02040816e-03,\n",
       "        1.02040816e-03, 0.00000000e+00],\n",
       "       [0.00000000e+00, 9.92070485e-01, 2.64317181e-03, 1.76211454e-03,\n",
       "        0.00000000e+00, 8.81057269e-04, 1.76211454e-03, 0.00000000e+00,\n",
       "        8.81057269e-04, 0.00000000e+00],\n",
       "       [1.93798450e-03, 0.00000000e+00, 9.93217054e-01, 0.00000000e+00,\n",
       "        9.68992248e-04, 0.00000000e+00, 0.00000000e+00, 3.87596899e-03,\n",
       "        0.00000000e+00, 0.00000000e+00],\n",
       "       [0.00000000e+00, 0.00000000e+00, 4.95049505e-03, 9.88118812e-01,\n",
       "        0.00000000e+00, 2.97029703e-03, 0.00000000e+00, 9.90099010e-04,\n",
       "        2.97029703e-03, 0.00000000e+00],\n",
       "       [0.00000000e+00, 0.00000000e+00, 2.03665988e-03, 0.00000000e+00,\n",
       "        9.81670061e-01, 0.00000000e+00, 2.03665988e-03, 1.01832994e-03,\n",
       "        3.05498982e-03, 1.01832994e-02],\n",
       "       [2.24215247e-03, 0.00000000e+00, 0.00000000e+00, 8.96860987e-03,\n",
       "        0.00000000e+00, 9.84304933e-01, 1.12107623e-03, 1.12107623e-03,\n",
       "        2.24215247e-03, 0.00000000e+00],\n",
       "       [5.21920668e-03, 4.17536534e-03, 0.00000000e+00, 0.00000000e+00,\n",
       "        1.04384134e-03, 5.21920668e-03, 9.84342380e-01, 0.00000000e+00,\n",
       "        0.00000000e+00, 0.00000000e+00],\n",
       "       [0.00000000e+00, 4.86381323e-03, 7.78210117e-03, 1.94552529e-03,\n",
       "        0.00000000e+00, 9.72762646e-04, 0.00000000e+00, 9.82490272e-01,\n",
       "        9.72762646e-04, 9.72762646e-04],\n",
       "       [4.10677618e-03, 0.00000000e+00, 3.08008214e-03, 4.10677618e-03,\n",
       "        1.02669405e-03, 5.13347023e-03, 1.02669405e-03, 2.05338809e-03,\n",
       "        9.78439425e-01, 1.02669405e-03],\n",
       "       [1.98216056e-03, 6.93756194e-03, 9.91080278e-04, 1.09018831e-02,\n",
       "        2.97324083e-03, 1.98216056e-03, 0.00000000e+00, 1.98216056e-02,\n",
       "        9.91080278e-03, 9.44499504e-01]])"
      ]
     },
     "execution_count": 32,
     "metadata": {},
     "output_type": "execute_result"
    }
   ],
   "source": [
    "cm = confusion_matrix(test_label, test_pred,normalize='true')\n",
    "cm"
   ]
  },
  {
   "cell_type": "code",
   "execution_count": 33,
   "metadata": {},
   "outputs": [
    {
     "data": {
      "text/plain": [
       "<AxesSubplot:>"
      ]
     },
     "execution_count": 33,
     "metadata": {},
     "output_type": "execute_result"
    },
    {
     "data": {
      "image/png": "[encoded data removed]",
      "text/plain": [
       "<Figure size 432x288 with 2 Axes>"
      ]
     },
     "metadata": {
      "needs_background": "light"
     },
     "output_type": "display_data"
    }
   ],
   "source": [
    "sns.heatmap(cm,cmap=\"YlGnBu_r\")"
   ]
  },
  {
   "cell_type": "code",
   "execution_count": null,
   "metadata": {},
   "outputs": [],
   "source": []
  }
 ],
 "metadata": {
  "interpreter": {
   "hash": "373151cbc95481ea95ac7d68576d58b9482a31c462ca054c3f25e7238c652c99"
  },
  "kernelspec": {
   "display_name": "Python 3.7.5 ('MindSpore')",
   "language": "python",
   "name": "python3"
  },
  "language_info": {
   "codemirror_mode": {
    "name": "ipython",
    "version": 3
   },
   "file_extension": ".py",
   "mimetype": "text/x-python",
   "name": "python",
   "nbconvert_exporter": "python",
   "pygments_lexer": "ipython3",
   "version": "3.7.5"
  },
  "orig_nbformat": 4
 },
 "nbformat": 4,
 "nbformat_minor": 2
}
